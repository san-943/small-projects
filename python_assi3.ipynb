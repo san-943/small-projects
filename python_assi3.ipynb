{
  "nbformat": 4,
  "nbformat_minor": 0,
  "metadata": {
    "colab": {
      "name": "python assi3.ipynb",
      "provenance": []
    },
    "kernelspec": {
      "name": "python3",
      "display_name": "Python 3"
    }
  },
  "cells": [
    {
      "cell_type": "markdown",
      "metadata": {
        "id": "W4wf1kGv_ST7"
      },
      "source": [
        ""
      ]
    },
    {
      "cell_type": "markdown",
      "metadata": {
        "id": "CQsShNHX_WJh"
      },
      "source": [
        "Write a Python Program to implement your own myreduce() function which works exactly like Python's built-in function reduce()¶\r\n"
      ]
    },
    {
      "cell_type": "code",
      "metadata": {
        "id": "dxEW9ZX7_Zc6"
      },
      "source": [
        "def myreduce(func, values):\r\n",
        "    result = values[0]\r\n",
        "    for i in values[1:]:\r\n",
        "        result = func(result, i)\r\n",
        "    return result"
      ],
      "execution_count": 3,
      "outputs": []
    },
    {
      "cell_type": "code",
      "metadata": {
        "id": "yDksrK52_n52"
      },
      "source": [
        "def func(a, b):\r\n",
        "    return a * b"
      ],
      "execution_count": 4,
      "outputs": []
    },
    {
      "cell_type": "code",
      "metadata": {
        "colab": {
          "base_uri": "https://localhost:8080/"
        },
        "id": "ZiFjjUlH_sQk",
        "outputId": "4eaea350-9b3d-43c1-fdbd-41611decf2f8"
      },
      "source": [
        "l = [2,5,6,1,8,3,10]\r\n",
        "print(f\"My Reduce Output is: {myreduce(func, l)}\")\r\n"
      ],
      "execution_count": 5,
      "outputs": [
        {
          "output_type": "stream",
          "text": [
            "My Reduce Output is: 14400\n"
          ],
          "name": "stdout"
        }
      ]
    },
    {
      "cell_type": "code",
      "metadata": {
        "id": "wrZ8ikUs_wnX"
      },
      "source": [
        ""
      ],
      "execution_count": null,
      "outputs": []
    },
    {
      "cell_type": "markdown",
      "metadata": {
        "id": "z7eS4mr-_4HP"
      },
      "source": [
        "Write a Python program to implement your own myfilter() function which works exactly like Python's built-in function filter()¶\r\n"
      ]
    },
    {
      "cell_type": "code",
      "metadata": {
        "id": "ImtrC-0g_7DR"
      },
      "source": [
        "def myfilter(fun, values):\r\n",
        "    result = list()\r\n",
        "    for i in values:\r\n",
        "        if fun(i):\r\n",
        "            result.append(i)\r\n",
        "    return result\r\n"
      ],
      "execution_count": 6,
      "outputs": []
    },
    {
      "cell_type": "code",
      "metadata": {
        "id": "bpDvwYyeAAD9"
      },
      "source": [
        "def fun(x):\r\n",
        "    if x % 5 == 0:\r\n",
        "        return True\r\n",
        "    else:\r\n",
        "        return False"
      ],
      "execution_count": 7,
      "outputs": []
    },
    {
      "cell_type": "code",
      "metadata": {
        "colab": {
          "base_uri": "https://localhost:8080/"
        },
        "id": "Gk-rctD9AEkU",
        "outputId": "258b1f94-926b-4477-95f1-918a5d59137b"
      },
      "source": [
        "lst = [12, 15, 60, 34, 53]\r\n",
        "print(f\"My Filter Output is: {myfilter(fun, lst)}\")\r\n"
      ],
      "execution_count": 8,
      "outputs": [
        {
          "output_type": "stream",
          "text": [
            "My Filter Output is: [15, 60]\n"
          ],
          "name": "stdout"
        }
      ]
    },
    {
      "cell_type": "code",
      "metadata": {
        "id": "sdgFeLVXAH6s"
      },
      "source": [
        ""
      ],
      "execution_count": null,
      "outputs": []
    },
    {
      "cell_type": "markdown",
      "metadata": {
        "id": "RlpmwiWtAOwo"
      },
      "source": [
        "Implement List comprehensions to produce the following lists.\r\n",
        "1. ['x', 'xx', 'xxx', 'xxxx', 'y', 'yy', 'yyy', 'yyyy', 'z', 'zz', 'zzz', 'zzzz']\r\n",
        "\r\n"
      ]
    },
    {
      "cell_type": "code",
      "metadata": {
        "id": "5PRPJ80aAQVE"
      },
      "source": [
        "l1 = ['x', 'y', 'z']\r\n",
        "lst1 = [i*j for j in l1 for i in range(1, 5)]\r\n"
      ],
      "execution_count": 9,
      "outputs": []
    },
    {
      "cell_type": "code",
      "metadata": {
        "colab": {
          "base_uri": "https://localhost:8080/"
        },
        "id": "2R-MQXloAX3f",
        "outputId": "8d436825-507a-4698-dc9e-07b2eeae7448"
      },
      "source": [
        "lst1\r\n"
      ],
      "execution_count": 10,
      "outputs": [
        {
          "output_type": "execute_result",
          "data": {
            "text/plain": [
              "['x', 'xx', 'xxx', 'xxxx', 'y', 'yy', 'yyy', 'yyyy', 'z', 'zz', 'zzz', 'zzzz']"
            ]
          },
          "metadata": {
            "tags": []
          },
          "execution_count": 10
        }
      ]
    },
    {
      "cell_type": "markdown",
      "metadata": {
        "id": "yRkiBCYIAgGY"
      },
      "source": [
        "2. ['x', 'y', 'z', 'xx', 'yy', 'zz', 'xxx', 'yyy', 'zzz', 'xxxx', 'yyyy', 'zzzz']\r\n",
        "\r\n"
      ]
    },
    {
      "cell_type": "code",
      "metadata": {
        "id": "qPqVDHwbAhy2"
      },
      "source": [
        "l2 = ['x', 'y', 'z']\r\n",
        "lst2 = [i*j for j in range(1, 5) for i in l2]\r\n"
      ],
      "execution_count": 11,
      "outputs": []
    },
    {
      "cell_type": "code",
      "metadata": {
        "colab": {
          "base_uri": "https://localhost:8080/"
        },
        "id": "psErj8EXAncQ",
        "outputId": "7cff2a2a-c07a-4be4-b3ff-ae603ab5591a"
      },
      "source": [
        "lst2"
      ],
      "execution_count": 13,
      "outputs": [
        {
          "output_type": "execute_result",
          "data": {
            "text/plain": [
              "['x', 'y', 'z', 'xx', 'yy', 'zz', 'xxx', 'yyy', 'zzz', 'xxxx', 'yyyy', 'zzzz']"
            ]
          },
          "metadata": {
            "tags": []
          },
          "execution_count": 13
        }
      ]
    },
    {
      "cell_type": "code",
      "metadata": {
        "id": "szI4u2AeAoRg"
      },
      "source": [
        ""
      ],
      "execution_count": null,
      "outputs": []
    },
    {
      "cell_type": "markdown",
      "metadata": {
        "id": "Bcax0ZC1As3j"
      },
      "source": [
        "3. [[2], [3], [4], [3], [4], [5], [4], [5], [6]]\r\n",
        "\r\n"
      ]
    },
    {
      "cell_type": "code",
      "metadata": {
        "id": "ZiXf4ewdAuCx"
      },
      "source": [
        "lst3 = [[x + y] for y in range(3) for x in range(2, 5)]\r\n"
      ],
      "execution_count": 14,
      "outputs": []
    },
    {
      "cell_type": "code",
      "metadata": {
        "colab": {
          "base_uri": "https://localhost:8080/"
        },
        "id": "ODU49FTuAyKz",
        "outputId": "fb2ff014-7c6f-446e-9fde-11addfde9813"
      },
      "source": [
        "lst3"
      ],
      "execution_count": 15,
      "outputs": [
        {
          "output_type": "execute_result",
          "data": {
            "text/plain": [
              "[[2], [3], [4], [3], [4], [5], [4], [5], [6]]"
            ]
          },
          "metadata": {
            "tags": []
          },
          "execution_count": 15
        }
      ]
    },
    {
      "cell_type": "markdown",
      "metadata": {
        "id": "wRFUEbXtA4y-"
      },
      "source": [
        ""
      ]
    },
    {
      "cell_type": "markdown",
      "metadata": {
        "id": "-ujLxmTIA43W"
      },
      "source": [
        "4. [[2, 3, 4, 5], [3, 4, 5, 6], [4, 5, 6, 7], [5, 6, 7, 8]]\r\n",
        "\r\n"
      ]
    },
    {
      "cell_type": "code",
      "metadata": {
        "colab": {
          "base_uri": "https://localhost:8080/"
        },
        "id": "LslTeGxcA82z",
        "outputId": "11e19c3a-aafb-415e-8e5f-88e65c966ea8"
      },
      "source": [
        "lst4 = [[a+b for b in range(2, 6)] for a in range(4)]\r\n",
        "lst4"
      ],
      "execution_count": 16,
      "outputs": [
        {
          "output_type": "execute_result",
          "data": {
            "text/plain": [
              "[[2, 3, 4, 5], [3, 4, 5, 6], [4, 5, 6, 7], [5, 6, 7, 8]]"
            ]
          },
          "metadata": {
            "tags": []
          },
          "execution_count": 16
        }
      ]
    },
    {
      "cell_type": "markdown",
      "metadata": {
        "id": "LjhjDEh-BGg3"
      },
      "source": [
        "5. [(1, 1), (2, 1), (3, 1), (1, 2), (2, 2), (3, 2), (1, 3), (2, 3), (3, 3)]\r\n",
        "\r\n"
      ]
    },
    {
      "cell_type": "code",
      "metadata": {
        "id": "72HTNsWZBHSd"
      },
      "source": [
        "lst5 = [(p, q) for q in range(1, 4) for p in range(1, 4)]\r\n"
      ],
      "execution_count": 17,
      "outputs": []
    },
    {
      "cell_type": "code",
      "metadata": {
        "colab": {
          "base_uri": "https://localhost:8080/"
        },
        "id": "3UMkFTgLBRFS",
        "outputId": "73d477dd-c95a-4912-d3a5-03395d8de6a5"
      },
      "source": [
        "lst5"
      ],
      "execution_count": 18,
      "outputs": [
        {
          "output_type": "execute_result",
          "data": {
            "text/plain": [
              "[(1, 1), (2, 1), (3, 1), (1, 2), (2, 2), (3, 2), (1, 3), (2, 3), (3, 3)]"
            ]
          },
          "metadata": {
            "tags": []
          },
          "execution_count": 18
        }
      ]
    },
    {
      "cell_type": "code",
      "metadata": {
        "id": "B_VhXsYpBT9J"
      },
      "source": [
        ""
      ],
      "execution_count": null,
      "outputs": []
    }
  ]
}