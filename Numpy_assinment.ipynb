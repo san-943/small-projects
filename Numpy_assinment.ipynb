{
  "nbformat": 4,
  "nbformat_minor": 0,
  "metadata": {
    "colab": {
      "name": "Numpy assinment.ipynb",
      "provenance": []
    },
    "kernelspec": {
      "name": "python3",
      "display_name": "Python 3"
    }
  },
  "cells": [
    {
      "cell_type": "code",
      "metadata": {
        "id": "4m6BSiPmD7bL"
      },
      "source": [
        ""
      ],
      "execution_count": null,
      "outputs": []
    },
    {
      "cell_type": "markdown",
      "metadata": {
        "id": "fN-JKcP_EESl"
      },
      "source": [
        "Write a function so that the columns of the output matrix are powers of the input vector.The order of the powers is determined by the increasing boolean argument. Specifically, when increasing is False, the i-th output column is the input vector raised element-wise to the power of N - i - 1. HINT: Such a matrix with a geometric progression in each row is named for Alexandre-Theophile Vandermonde.\r\n",
        "Problem Statement 2:\r\n",
        "Given a sequence of n values x1, x2, ..., xn and a window size k>0, the k-th moving average of the given sequence is defined as follows:\r\n",
        "The moving average sequence has n-k+1 elements as shown below.The moving averages with k=4 of a ten-value sequence (n=10) is shown below\r\n",
        "i 1 2 3 4 5 6 7 8 9 10\r\n",
        "===== == == == == == == == == == ==\r\n",
        "Input 10 20 30 40 50 60 70 80 90 100\r\n",
        "y1 25 = (10+20+30+40)/4\r\n",
        "y2 35 = (20+30+40+50)/4\r\n",
        "y3 45 = (30+40+50+60)/4\r\n",
        "y4 55 = (40+50+60+70)/4\r\n",
        "y5 65 = (50+60+70+80)/4\r\n",
        "y6 75 = (60+70+80+90)/4\r\n",
        "y7 85 = (70+80+90+100)/4\r\n",
        "Thus, the moving average sequence has n-k+1=10-4+1=7 values.\r\n",
        "Question: Write a function to find moving average in an array over a window:\r\n",
        "Test it over [3, 5, 7, 2, 8, 10, 11, 65, 72, 81, 99, 100, 150] and window of 3.\r\n",
        "\r\n"
      ]
    },
    {
      "cell_type": "code",
      "metadata": {
        "id": "g15_7R1uEFTi"
      },
      "source": [
        "import numpy as np\r\n",
        "def moving_average(a, n=3) :\r\n",
        "    x = np.cumsum(a, dtype=float)\r\n",
        "    x[n:] = x[n:] - x[:-n]\r\n",
        "    return x[n - 1:] / n\r\n"
      ],
      "execution_count": 1,
      "outputs": []
    },
    {
      "cell_type": "code",
      "metadata": {
        "colab": {
          "base_uri": "https://localhost:8080/"
        },
        "id": "C-G0NVJqEbTK",
        "outputId": "af2b2bfe-596b-4a12-e49a-3b1517ca3543"
      },
      "source": [
        "a = [3, 5, 7, 2, 8, 10, 11, 65, 72, 81, 99, 100, 150]\r\n",
        "print(moving_average(a, n=3))\r\n"
      ],
      "execution_count": 2,
      "outputs": [
        {
          "output_type": "stream",
          "text": [
            "[  5.           4.66666667   5.66666667   6.66666667   9.66666667\n",
            "  28.66666667  49.33333333  72.66666667  84.          93.33333333\n",
            " 116.33333333]\n"
          ],
          "name": "stdout"
        }
      ]
    },
    {
      "cell_type": "code",
      "metadata": {
        "id": "R2gzmLYEEeXC"
      },
      "source": [
        ""
      ],
      "execution_count": null,
      "outputs": []
    }
  ]
}