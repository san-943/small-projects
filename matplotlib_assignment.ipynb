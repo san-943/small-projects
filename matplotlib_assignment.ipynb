{
  "nbformat": 4,
  "nbformat_minor": 0,
  "metadata": {
    "colab": {
      "name": "matplotlib assignment.ipynb",
      "provenance": []
    },
    "kernelspec": {
      "name": "python3",
      "display_name": "Python 3"
    }
  },
  "cells": [
    {
      "cell_type": "markdown",
      "metadata": {
        "id": "YyEcDyKSMddb"
      },
      "source": [
        "Scipy:"
      ]
    },
    {
      "cell_type": "code",
      "metadata": {
        "id": "8s321VBALRt8"
      },
      "source": [
        "import pandas as pd\r\n",
        "import numpy as np\r\n",
        "import matplotlib.pyplot as plt\r\n",
        "%matplotlib inline\r\n",
        "import numpy as np\r\n"
      ],
      "execution_count": 9,
      "outputs": []
    },
    {
      "cell_type": "code",
      "metadata": {
        "colab": {
          "base_uri": "https://localhost:8080/",
          "height": 296
        },
        "id": "uUMBHlOeLW_y",
        "outputId": "5918958f-e9d3-4e43-e5b2-e38428d674fb"
      },
      "source": [
        "max_temp = np.array ([39, 41, 43, 47, 49, 51, 45, 38, 37, 29, 27, 25])\r\n",
        "min_temp = np.array([21, 23, 27, 28, 32, 35, 31, 28, 21, 19, 17, 18])\r\n",
        "\r\n",
        "months = np.arange(12)\r\n",
        "plt.plot(months,max_temp,'ro')\r\n",
        "plt.plot(months,min_temp,'bo')\r\n",
        "plt.xlabel('Month')\r\n",
        "plt.ylabel('Min and Max Temperatures')"
      ],
      "execution_count": 10,
      "outputs": [
        {
          "output_type": "execute_result",
          "data": {
            "text/plain": [
              "Text(0, 0.5, 'Min and Max Temperatures')"
            ]
          },
          "metadata": {
            "tags": []
          },
          "execution_count": 10
        },
        {
          "output_type": "display_data",
          "data": {
            "image/png": "[encoded data removed]",
            "text/plain": [
              "<Figure size 432x288 with 1 Axes>"
            ]
          },
          "metadata": {
            "tags": [],
            "needs_background": "light"
          }
        }
      ]
    },
    {
      "cell_type": "code",
      "metadata": {
        "id": "iAWehMMFLckc"
      },
      "source": [
        "#Fitting it into a Periodic Function¶\r\n",
        "\r\n",
        "from scipy import optimize\r\n",
        "\r\n",
        "def yearly_temp(times, avg , ampl , time_offset):\r\n",
        "    return (avg + ampl * np.cos((times + time_offset) * 2 * np.pi / times.max()))\r\n",
        "\r\n",
        "res_max, cov_max = optimize.curve_fit(yearly_temp, months,\r\n",
        "                                      max_temp, [20, 10, 0])\r\n",
        "\r\n",
        "res_min, cov_min = optimize.curve_fit(yearly_temp, months,\r\n",
        "                                      min_temp, [-40, 20, 0])\r\n"
      ],
      "execution_count": 11,
      "outputs": []
    },
    {
      "cell_type": "code",
      "metadata": {
        "colab": {
          "base_uri": "https://localhost:8080/",
          "height": 279
        },
        "id": "lzMp-N-SLkIM",
        "outputId": "2c444532-12c4-4158-ec7d-ee8a38d14f28"
      },
      "source": [
        "#Plotting the Fit¶\r\n",
        "\r\n",
        "days = np.linspace(0,12,num=365)\r\n",
        "plt.figure()\r\n",
        "plt.plot(months,max_temp,'ro')\r\n",
        "plt.plot(days,yearly_temp(days, *res_max), 'r-')\r\n",
        "plt.plot(months, min_temp, 'bo')\r\n",
        "plt.plot(days, yearly_temp(days, *res_min), 'b-')\r\n",
        "plt.xlabel('Month')\r\n",
        "plt.ylabel('Temperature ($^\\circ$C)')\r\n",
        "\r\n",
        "plt.show()\r\n"
      ],
      "execution_count": 12,
      "outputs": [
        {
          "output_type": "display_data",
          "data": {
            "image/png": "[encoded data removed]",
            "text/plain": [
              "<Figure size 432x288 with 1 Axes>"
            ]
          },
          "metadata": {
            "tags": [],
            "needs_background": "light"
          }
        }
      ]
    },
    {
      "cell_type": "code",
      "metadata": {
        "colab": {
          "base_uri": "https://localhost:8080/",
          "height": 272
        },
        "id": "4bCE8Q13L3qk",
        "outputId": "e8e5a3ae-71e0-4476-ae97-8e87c3b9ad07"
      },
      "source": [
        "#Matplotlib :¶\r\n",
        "\r\n",
        "url = 'https://raw.githubusercontent.com/Geoyi/Cleaning-Titanic-Data/master/titanic_original.csv'\r\n",
        "titanic = pd.read_csv(url)\r\n",
        "titanic.head()\r\n"
      ],
      "execution_count": 13,
      "outputs": [
        {
          "output_type": "execute_result",
          "data": {
            "text/html": [
              "<div>\n",
              "<style scoped>\n",
              "    .dataframe tbody tr th:only-of-type {\n",
              "        vertical-align: middle;\n",
              "    }\n",
              "\n",
              "    .dataframe tbody tr th {\n",
              "        vertical-align: top;\n",
              "    }\n",
              "\n",
              "    .dataframe thead th {\n",
              "        text-align: right;\n",
              "    }\n",
              "</style>\n",
              "<table border=\"1\" class=\"dataframe\">\n",
              "  <thead>\n",
              "    <tr style=\"text-align: right;\">\n",
              "      <th></th>\n",
              "      <th>pclass</th>\n",
              "      <th>survived</th>\n",
              "      <th>name</th>\n",
              "      <th>sex</th>\n",
              "      <th>age</th>\n",
              "      <th>sibsp</th>\n",
              "      <th>parch</th>\n",
              "      <th>ticket</th>\n",
              "      <th>fare</th>\n",
              "      <th>cabin</th>\n",
              "      <th>embarked</th>\n",
              "      <th>boat</th>\n",
              "      <th>body</th>\n",
              "      <th>home.dest</th>\n",
              "    </tr>\n",
              "  </thead>\n",
              "  <tbody>\n",
              "    <tr>\n",
              "      <th>0</th>\n",
              "      <td>1.0</td>\n",
              "      <td>1.0</td>\n",
              "      <td>Allen, Miss. Elisabeth Walton</td>\n",
              "      <td>female</td>\n",
              "      <td>29.0000</td>\n",
              "      <td>0.0</td>\n",
              "      <td>0.0</td>\n",
              "      <td>24160</td>\n",
              "      <td>211.3375</td>\n",
              "      <td>B5</td>\n",
              "      <td>S</td>\n",
              "      <td>2</td>\n",
              "      <td>NaN</td>\n",
              "      <td>St Louis, MO</td>\n",
              "    </tr>\n",
              "    <tr>\n",
              "      <th>1</th>\n",
              "      <td>1.0</td>\n",
              "      <td>1.0</td>\n",
              "      <td>Allison, Master. Hudson Trevor</td>\n",
              "      <td>male</td>\n",
              "      <td>0.9167</td>\n",
              "      <td>1.0</td>\n",
              "      <td>2.0</td>\n",
              "      <td>113781</td>\n",
              "      <td>151.5500</td>\n",
              "      <td>C22 C26</td>\n",
              "      <td>S</td>\n",
              "      <td>11</td>\n",
              "      <td>NaN</td>\n",
              "      <td>Montreal, PQ / Chesterville, ON</td>\n",
              "    </tr>\n",
              "    <tr>\n",
              "      <th>2</th>\n",
              "      <td>1.0</td>\n",
              "      <td>0.0</td>\n",
              "      <td>Allison, Miss. Helen Loraine</td>\n",
              "      <td>female</td>\n",
              "      <td>2.0000</td>\n",
              "      <td>1.0</td>\n",
              "      <td>2.0</td>\n",
              "      <td>113781</td>\n",
              "      <td>151.5500</td>\n",
              "      <td>C22 C26</td>\n",
              "      <td>S</td>\n",
              "      <td>NaN</td>\n",
              "      <td>NaN</td>\n",
              "      <td>Montreal, PQ / Chesterville, ON</td>\n",
              "    </tr>\n",
              "    <tr>\n",
              "      <th>3</th>\n",
              "      <td>1.0</td>\n",
              "      <td>0.0</td>\n",
              "      <td>Allison, Mr. Hudson Joshua Creighton</td>\n",
              "      <td>male</td>\n",
              "      <td>30.0000</td>\n",
              "      <td>1.0</td>\n",
              "      <td>2.0</td>\n",
              "      <td>113781</td>\n",
              "      <td>151.5500</td>\n",
              "      <td>C22 C26</td>\n",
              "      <td>S</td>\n",
              "      <td>NaN</td>\n",
              "      <td>135.0</td>\n",
              "      <td>Montreal, PQ / Chesterville, ON</td>\n",
              "    </tr>\n",
              "    <tr>\n",
              "      <th>4</th>\n",
              "      <td>1.0</td>\n",
              "      <td>0.0</td>\n",
              "      <td>Allison, Mrs. Hudson J C (Bessie Waldo Daniels)</td>\n",
              "      <td>female</td>\n",
              "      <td>25.0000</td>\n",
              "      <td>1.0</td>\n",
              "      <td>2.0</td>\n",
              "      <td>113781</td>\n",
              "      <td>151.5500</td>\n",
              "      <td>C22 C26</td>\n",
              "      <td>S</td>\n",
              "      <td>NaN</td>\n",
              "      <td>NaN</td>\n",
              "      <td>Montreal, PQ / Chesterville, ON</td>\n",
              "    </tr>\n",
              "  </tbody>\n",
              "</table>\n",
              "</div>"
            ],
            "text/plain": [
              "   pclass  survived  ...   body                        home.dest\n",
              "0     1.0       1.0  ...    NaN                     St Louis, MO\n",
              "1     1.0       1.0  ...    NaN  Montreal, PQ / Chesterville, ON\n",
              "2     1.0       0.0  ...    NaN  Montreal, PQ / Chesterville, ON\n",
              "3     1.0       0.0  ...  135.0  Montreal, PQ / Chesterville, ON\n",
              "4     1.0       0.0  ...    NaN  Montreal, PQ / Chesterville, ON\n",
              "\n",
              "[5 rows x 14 columns]"
            ]
          },
          "metadata": {
            "tags": []
          },
          "execution_count": 13
        }
      ]
    },
    {
      "cell_type": "code",
      "metadata": {
        "colab": {
          "base_uri": "https://localhost:8080/"
        },
        "id": "2vkIr8TyMAQ4",
        "outputId": "97ee8087-0db9-400d-c048-4bca5e1e1975"
      },
      "source": [
        "#Q1.Create a pie chart presenting the male/female proportion¶\r\n",
        "\r\n",
        "males = titanic[titanic['sex']=='male'].index.value_counts().count()\r\n",
        "print(\"male count is {}\".format(males))\r\n",
        "females =titanic[titanic['sex']=='female'].index.value_counts().count()\r\n",
        "print(\"female count is {}\".format(females))\r\n"
      ],
      "execution_count": 14,
      "outputs": [
        {
          "output_type": "stream",
          "text": [
            "male count is 843\n",
            "female count is 466\n"
          ],
          "name": "stdout"
        }
      ]
    },
    {
      "cell_type": "code",
      "metadata": {
        "colab": {
          "base_uri": "https://localhost:8080/",
          "height": 248
        },
        "id": "GfifQrywMMI4",
        "outputId": "72ad6781-9acf-4c6b-9139-0ab1e23f97bf"
      },
      "source": [
        "list_1 = [males,females]\r\n",
        "gender = ['male','female']\r\n",
        "colors = ['b','y']\r\n",
        "plt.pie(list_1,labels=gender,colors=colors,startangle=90,autopct='%.1f%%')\r\n",
        "plt.show()\r\n"
      ],
      "execution_count": 15,
      "outputs": [
        {
          "output_type": "display_data",
          "data": {
            "image/png": "[encoded data removed]",
            "text/plain": [
              "<Figure size 432x288 with 1 Axes>"
            ]
          },
          "metadata": {
            "tags": []
          }
        }
      ]
    },
    {
      "cell_type": "code",
      "metadata": {
        "colab": {
          "base_uri": "https://localhost:8080/",
          "height": 334
        },
        "id": "l1EWeehUMPwE",
        "outputId": "69b392ca-4f3f-44e8-b96e-ecd0d8daefc6"
      },
      "source": [
        "#Q2 Create a scatterplot with the Fare paid and the Age, differ the plot color by gender¶\r\n",
        "\r\n",
        "male = titanic[titanic['sex']=='male']\r\n",
        "female = titanic[titanic['sex']=='female']\r\n",
        "fig = plt.figure(figsize=(18,5))\r\n",
        "plt.plot(male.fare, male.age, '.b', label='Male')\r\n",
        "plt.plot(female.fare, female.age, '.r', label='Female')\r\n",
        "plt.axis('equal')\r\n",
        "plt.xlabel('Fare')\r\n",
        "plt.ylabel('Age')\r\n",
        "leg = plt.legend()\r\n"
      ],
      "execution_count": 16,
      "outputs": [
        {
          "output_type": "display_data",
          "data": {
            "image/png": "[encoded data removed]",
            "text/plain": [
              "<Figure size 1296x360 with 1 Axes>"
            ]
          },
          "metadata": {
            "tags": [],
            "needs_background": "light"
          }
        }
      ]
    },
    {
      "cell_type": "code",
      "metadata": {
        "id": "E71bMs-hMWsT"
      },
      "source": [
        ""
      ],
      "execution_count": null,
      "outputs": []
    }
  ]
}