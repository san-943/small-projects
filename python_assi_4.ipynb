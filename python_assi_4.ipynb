{
  "nbformat": 4,
  "nbformat_minor": 0,
  "metadata": {
    "colab": {
      "name": "python assi 4.ipynb",
      "provenance": []
    },
    "kernelspec": {
      "name": "python3",
      "display_name": "Python 3"
    }
  },
  "cells": [
    {
      "cell_type": "code",
      "metadata": {
        "id": "CgfvbdgdBmRn"
      },
      "source": [
        ""
      ],
      "execution_count": null,
      "outputs": []
    },
    {
      "cell_type": "markdown",
      "metadata": {
        "id": "F8k0YACvB8rr"
      },
      "source": [
        "Q1.1 Write a Python Program(with class concepts) to find the area of the triangle using the below formula.area = (s(s-a)(s-b)*(s-c)) ** 0.5 Function to take the length of the sides of triangle from user should be defined in the parentclass and function to calculate the area should be defined in subclass.¶\r\n"
      ]
    },
    {
      "cell_type": "code",
      "metadata": {
        "colab": {
          "base_uri": "https://localhost:8080/"
        },
        "id": "CgY6JyX-B9du",
        "outputId": "766a7f47-5d7b-4f30-ae7b-d00d8e993c88"
      },
      "source": [
        "class Triangle:\r\n",
        "    def __init__(self,i,j,k):\r\n",
        "        self.i=i\r\n",
        "        self.j=j\r\n",
        "        self.k=k\r\n",
        "    def area(self):\r\n",
        "        s=(self.i+self.j+self.k)/2\r\n",
        "        area=(s*(s-self.i)*(s-self.j)*(s-self.k))**0.5\r\n",
        "        return area\r\n",
        "    \r\n",
        "i=float(input(\"Enter a length of side i:\"))\r\n",
        "j=float(input(\"Enter a length of side j:\"))\r\n",
        "k=float(input(\"Enter a length of side k:\"))\r\n",
        "tri=Triangle(i,j,k)\r\n",
        "\r\n",
        "print(\"Area of trianle is {}\".format(tri.area()))\r\n"
      ],
      "execution_count": 1,
      "outputs": [
        {
          "output_type": "stream",
          "text": [
            "Enter a length of side i:2\n",
            "Enter a length of side j:3\n",
            "Enter a length of side k:4\n",
            "Area of trianle is 2.9047375096555625\n"
          ],
          "name": "stdout"
        }
      ]
    },
    {
      "cell_type": "code",
      "metadata": {
        "id": "HyzrogaECJmU"
      },
      "source": [
        ""
      ],
      "execution_count": null,
      "outputs": []
    },
    {
      "cell_type": "markdown",
      "metadata": {
        "id": "DJ2qkKWqCVEj"
      },
      "source": [
        "Q1.2 Write a function filter_long_words() that takes a list of words and an integer n and returns the list of words that are longer than n.¶\r\n"
      ]
    },
    {
      "cell_type": "code",
      "metadata": {
        "colab": {
          "base_uri": "https://localhost:8080/"
        },
        "id": "v08OHoQECYAK",
        "outputId": "ce199ee7-b8d9-439f-e3fb-db411d52d557"
      },
      "source": [
        "def filter_long_word(list_1,n):\r\n",
        "    list_2=[]\r\n",
        "    for i in range(0,len(list_1)):\r\n",
        "        if len(list_1[i])>n:\r\n",
        "            list_2.append(list_1[i])\r\n",
        "    return list_2\r\n",
        "list_3=['bbnnttio','masalkar','acadgild','the','bun']\r\n",
        "n=int(input(\"Enter a value for n:-\"))\r\n",
        "lst=filter_long_word(list_3,n)\r\n",
        "print(\"List of words longer than {}\".format(n))\r\n",
        "print(lst)\r\n"
      ],
      "execution_count": 3,
      "outputs": [
        {
          "output_type": "stream",
          "text": [
            "Enter a value for n:-4\n",
            "List of words longer than 4\n",
            "['bbnnttio', 'masalkar', 'acadgild']\n"
          ],
          "name": "stdout"
        }
      ]
    },
    {
      "cell_type": "code",
      "metadata": {
        "id": "1nWs_wwKCcBf"
      },
      "source": [
        ""
      ],
      "execution_count": null,
      "outputs": []
    },
    {
      "cell_type": "markdown",
      "metadata": {
        "id": "6by1TbOoCzRp"
      },
      "source": [
        "Q2.1 Write a Python program using function concept that maps list of words into a list of integers representing the lengths of the corresponding words.Hint: If a list [ ab,cde,erty] is passed on to the python function output should come as [2,3,4] Here 2,3 and 4 are the lengths of the words in the list.¶\r\n"
      ]
    },
    {
      "cell_type": "code",
      "metadata": {
        "colab": {
          "base_uri": "https://localhost:8080/"
        },
        "id": "5qxt2XWqC0Kf",
        "outputId": "075230bc-84d3-4a38-ec18-dbd8baeef7d6"
      },
      "source": [
        "def find_length(list_1):\r\n",
        "    new_list=[]\r\n",
        "    for i in range (0,len(list_1)):\r\n",
        "        new_list.append(len(list_1[i]))\r\n",
        "    return new_list\r\n",
        "list_2=['ab','cde','erty']\r\n",
        "length_lst=find_length(list_2)\r\n",
        "print(length_lst)\r\n"
      ],
      "execution_count": 4,
      "outputs": [
        {
          "output_type": "stream",
          "text": [
            "[2, 3, 4]\n"
          ],
          "name": "stdout"
        }
      ]
    },
    {
      "cell_type": "code",
      "metadata": {
        "id": "6OjTOjLeC3pT"
      },
      "source": [
        ""
      ],
      "execution_count": null,
      "outputs": []
    },
    {
      "cell_type": "markdown",
      "metadata": {
        "id": "YNwRrUOsC6aN"
      },
      "source": [
        "Q2.2 Write a Python function which takes a character (i.e. a string of length 1) and returns True if it is a vowel, False otherwise.¶\r\n"
      ]
    },
    {
      "cell_type": "code",
      "metadata": {
        "colab": {
          "base_uri": "https://localhost:8080/"
        },
        "id": "mwd4hyFFC7Pt",
        "outputId": "7db3ccb4-9e07-4c79-85fa-0a30923b590c"
      },
      "source": [
        "def vowel(x):\r\n",
        "    if len(x)==1:\r\n",
        "        if x in ('a','e','i','o','u','A','E','I','O','U'):\r\n",
        "            return True \r\n",
        "        else:\r\n",
        "            return False\r\n",
        "    else:\r\n",
        "        print('Type only one letter')\r\n",
        "    \r\n",
        "print(vowel('a'))\r\n",
        "print(vowel('s'))\r\n",
        "print(vowel('al'))\r\n"
      ],
      "execution_count": 5,
      "outputs": [
        {
          "output_type": "stream",
          "text": [
            "True\n",
            "False\n",
            "Type only one letter\n",
            "None\n"
          ],
          "name": "stdout"
        }
      ]
    },
    {
      "cell_type": "code",
      "metadata": {
        "id": "M4gdMLuHC_A5"
      },
      "source": [
        ""
      ],
      "execution_count": null,
      "outputs": []
    }
  ]
}